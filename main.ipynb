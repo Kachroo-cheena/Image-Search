{
  "nbformat": 4,
  "nbformat_minor": 0,
  "metadata": {
    "colab": {
      "provenance": [],
      "collapsed_sections": []
    },
    "kernelspec": {
      "name": "python3",
      "display_name": "Python 3"
    },
    "language_info": {
      "name": "python"
    }
  },
  "cells": [
    {
      "cell_type": "code",
      "execution_count": null,
      "metadata": {
        "id": "m_tJDku7TeLr"
      },
      "outputs": [],
      "source": [
        "# Importing all necessary libraries \n",
        "import cv2 \n",
        "import os \n",
        "import tensorflow as tf\n",
        "import tensorflow_hub as hub\n",
        "from PIL import Image\n",
        "import pandas as pd\n",
        "import numpy as np\n",
        "import sys\n",
        "from scipy.spatial import distance\n",
        "import json\n",
        "\n",
        "metric = 'cosine'\n",
        "\n",
        "model_url = \"https://tfhub.dev/tensorflow/efficientnet/lite0/feature-vector/2\"\n",
        "\n",
        "IMAGE_SHAPE = (224, 224)\n",
        "\n",
        "layer = hub.KerasLayer(model_url)\n",
        "model = tf.keras.Sequential([layer])\n",
        "\n",
        "\n"
      ]
    },
    {
      "cell_type": "code",
      "source": [
        "# Read the video from specified path and convert it into 10 FPS each video\n",
        "def convert_to_frames(filename):\n",
        "  os.system(\"ffmpeg -i {0} -filter:v fps=10 {1}\".format(filename,filename.split('.')[0]+\"_changed.mp4\"))\n",
        "  filename = filename.split(\".\")[0]\n",
        "  cam = cv2.VideoCapture(\"{}_changed.mp4\".format(filename)) \n",
        "  cam.set(cv2.CAP_PROP_FPS, 10) \n",
        "  try: \n",
        "\n",
        "    # creating a folder named data \n",
        "    if not os.path.exists('data/{}'.format(filename)): \n",
        "      os.makedirs('data/{}'.format(filename)) \n",
        "\n",
        "  # if not created then raise error \n",
        "  except OSError: \n",
        "    print ('Error: Creating directory of data') \n",
        "\n",
        "  # frame \n",
        "  currentframe = 0\n",
        "\n",
        "  while(True): \n",
        "    \n",
        "    # reading from frame \n",
        "    ret,frame = cam.read() \n",
        "\n",
        "    if ret: \n",
        "      # if video is still left continue creating images \n",
        "      name = './data/{}/frame'.format(filename) + str(currentframe) + '.jpg'\n",
        "      print ('Creating...' + name)\n",
        "\n",
        "      # writing the extracted images \n",
        "      cv2.imwrite(name, frame) \n",
        "\n",
        "      # increasing counter so that it will \n",
        "      # show how many frames are created \n",
        "      currentframe += 1\n",
        "    else: \n",
        "      break\n",
        "\n",
        "  # Release all space and windows once done \n",
        "  cam.release() \n",
        "  cv2.destroyAllWindows() "
      ],
      "metadata": {
        "id": "M4wMoGeHT5DM"
      },
      "execution_count": null,
      "outputs": []
    },
    {
      "cell_type": "code",
      "source": [
        "def extract(file):\n",
        "  file = Image.open(file).convert('L').resize(IMAGE_SHAPE)\n",
        "  #display(file)\n",
        "  file = np.stack((file,)*3, axis=-1)\n",
        "  file = np.array(file)/255.0\n",
        "  embedding = model.predict(file[np.newaxis, ...])\n",
        "  vgg16_feature_np = np.array(embedding)\n",
        "  flattended_feature = vgg16_feature_np.flatten()\n",
        "  return flattended_feature"
      ],
      "metadata": {
        "id": "_TD9MGNgV7eC"
      },
      "execution_count": null,
      "outputs": []
    },
    {
      "cell_type": "code",
      "source": [
        "def convert_to_vectors(filename):\n",
        "  filename = filename.split(\".\")[0]\n",
        "  video_1_temp = os.listdir('data/{}/'.format(filename))\n",
        "  video_1 = []\n",
        "  for i in video_1_temp:\n",
        "    video_1.append(extract('data/{}/'.format(filename)+i))\n",
        "  return video_1  "
      ],
      "metadata": {
        "id": "ePuc3kYSXbH-"
      },
      "execution_count": null,
      "outputs": []
    },
    {
      "cell_type": "code",
      "source": [
        "def find_minimum_distance_with_image(video_dic,image_to_find,threshold):\n",
        "  dist_dic = {}\n",
        "  for vd in video_dic:\n",
        "    video_1 = video_dic[vd]\n",
        "    temp_video_1 = []\n",
        "    for i in video_1:\n",
        "      temp_video_1.append(distance.cdist([i], [image_to_find], metric)[0][0])\n",
        "    video_1_min = min(temp_video_1)\n",
        "    dist_dic[vd] = video_1_min\n",
        "  for i in dist_dic:\n",
        "    if dist_dic[i] <= threshold:\n",
        "      return i\n",
        "    "
      ],
      "metadata": {
        "id": "FxpObHOjYV_q"
      },
      "execution_count": null,
      "outputs": []
    },
    {
      "cell_type": "code",
      "source": [
        "def find_minimum_distance_with_video(video_dic,video_to_find):\n",
        "  dist_dic = {}\n",
        "  for vd in video_dic:\n",
        "    video_1 = video_dic[vd]\n",
        "    mini = 1\n",
        "    i = 0\n",
        "    while i < len(video_1):\n",
        "      temp_video_1 = []\n",
        "      for j in video_to_find:\n",
        "        temp_video_1.append(distance.cdist([video_1[i]], [j], metric)[0][0])\n",
        "      mini = min(mini,min(temp_video_1))\n",
        "      i+=len(video_1)\n",
        "    dist_dic[vd] = mini\n",
        "  for i in dist_dic:\n",
        "    if dist_dic[i] <= threshold:\n",
        "      return i\n"
      ],
      "metadata": {
        "id": "aJ3541-LVpT6"
      },
      "execution_count": null,
      "outputs": []
    },
    {
      "cell_type": "code",
      "source": [
        "video_1 = \"1.mp4\"\n",
        "video_2 = \"2.mp4\"\n",
        "video_3 = \"3.mp4\"\n",
        "threshold = 0.1\n",
        "convert_to_frames(video_1)\n",
        "convert_to_frames(video_2)\n",
        "convert_to_frames(video_3)\n",
        "video_dic = {video_1:convert_to_vectors(video_1),video_2:convert_to_vectors(video_2),video_3:convert_to_vectors(video_3)}\n"
      ],
      "metadata": {
        "id": "Ig5pUc_auYxv"
      },
      "execution_count": null,
      "outputs": []
    },
    {
      "cell_type": "code",
      "source": [
        "import pickle \n",
        "filehandler = open('vectors.obj','wb')\n",
        "pickle.dump(filehandler,video_dic)\n",
        "\n"
      ],
      "metadata": {
        "id": "iclEPWv5p41t"
      },
      "execution_count": null,
      "outputs": []
    },
    {
      "cell_type": "code",
      "source": [
        "print(video_dic)"
      ],
      "metadata": {
        "id": "Ts6vFRbR0qkT"
      },
      "execution_count": null,
      "outputs": []
    },
    {
      "cell_type": "code",
      "source": [
        "df = pd.DataFrame({\"Name\":[video_1,video_2,video_3],\"Vectors\":[video_dic[video_1],video_dic[video_2],video_dic[video_3]]})\n",
        "df.to_csv(\"Video_data_vectors.csv\")"
      ],
      "metadata": {
        "id": "8gN7Gjs_yBAY"
      },
      "execution_count": null,
      "outputs": []
    },
    {
      "cell_type": "code",
      "source": [],
      "metadata": {
        "id": "_wvwz45j421q"
      },
      "execution_count": null,
      "outputs": []
    },
    {
      "cell_type": "code",
      "source": [
        "def get_video_metadata(image_to_find):\n",
        "  threshold = 0.5\n",
        "  image_to_find = extract(image_to_find)\n",
        "  filehandler = open('vectors.obj','rb')\n",
        "  temp = pickle.load(filehandler)\n",
        "  # prin?t(temp)\n",
        "  print(find_minimum_distance_with_image(temp,image_to_find,threshold))"
      ],
      "metadata": {
        "id": "621fUoSvYfIA"
      },
      "execution_count": null,
      "outputs": []
    },
    {
      "cell_type": "code",
      "source": [
        "get_video_metadata(\"/content/drive/MyDrive/project/pigeon.jpeg\")                                  "
      ],
      "metadata": {
        "id": "3SkSvajuIxRD",
        "colab": {
          "base_uri": "https://localhost:8080/"
        },
        "outputId": "4c69745f-7a5b-48b4-f00c-c2fac7628133"
      },
      "execution_count": null,
      "outputs": [
        {
          "output_type": "stream",
          "name": "stdout",
          "text": [
            "3.mp4\n"
          ]
        }
      ]
    }
  ]
}